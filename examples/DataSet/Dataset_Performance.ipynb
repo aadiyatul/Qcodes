{
 "cells": [
  {
   "cell_type": "markdown",
   "metadata": {},
   "source": [
    "# DataSet Performance\n",
    "\n",
    "This notebook shows the trade-off between inserting data into a database row-by-row and as binary blobs. Inserting the data row-by-row means that we have direct access to all the data and may perform queries directly on the values of the data. On the other hand, as we shall see, this is much slower than inserting the data directly as binary blobs."
   ]
  },
  {
   "cell_type": "markdown",
   "metadata": {},
   "source": [
    "First, we choose a new location for the database to ensure that we don't add a bunch of benchmarking data to the default one."
   ]
  },
  {
   "cell_type": "code",
   "execution_count": 1,
   "metadata": {
    "execution": {
     "iopub.execute_input": "2021-10-01T07:52:35.991260Z",
     "iopub.status.busy": "2021-10-01T07:52:35.990071Z",
     "iopub.status.idle": "2021-10-01T07:52:37.078342Z",
     "shell.execute_reply": "2021-10-01T07:52:37.078792Z"
    }
   },
   "outputs": [
    {
     "name": "stdout",
     "output_type": "stream",
     "text": [
      "Logging hadn't been started.\n",
      "Activating auto-logging. Current session state plus future input saved.\n",
      "Filename       : /home/runner/.qcodes/logs/command_history.log\n",
      "Mode           : append\n",
      "Output logging : True\n",
      "Raw input log  : False\n",
      "Timestamping   : True\n",
      "State          : active\n"
     ]
    },
    {
     "name": "stdout",
     "output_type": "stream",
     "text": [
      "Qcodes Logfile : /home/runner/.qcodes/logs/211001-4999-qcodes.log\n"
     ]
    }
   ],
   "source": [
    "import os\n",
    "cwd = os.getcwd()\n",
    "import qcodes as qc\n",
    "qc.config[\"core\"][\"db_location\"] = os.path.join(cwd, 'testing.db')\n"
   ]
  },
  {
   "cell_type": "code",
   "execution_count": 2,
   "metadata": {
    "execution": {
     "iopub.execute_input": "2021-10-01T07:52:37.085848Z",
     "iopub.status.busy": "2021-10-01T07:52:37.084438Z",
     "iopub.status.idle": "2021-10-01T07:52:37.306485Z",
     "shell.execute_reply": "2021-10-01T07:52:37.307138Z"
    }
   },
   "outputs": [],
   "source": [
    "%matplotlib inline\n",
    "import time\n",
    "import matplotlib.pyplot as plt\n",
    "import numpy as np\n",
    "\n",
    "import qcodes as qc\n",
    "from qcodes.instrument.parameter import ManualParameter\n",
    "from qcodes.dataset.experiment_container import (Experiment,\n",
    "                                                 load_last_experiment,\n",
    "                                                 new_experiment)\n",
    "from qcodes.dataset.sqlite.database import initialise_database\n",
    "from qcodes import load_or_create_experiment\n",
    "from qcodes.dataset.measurements import Measurement"
   ]
  },
  {
   "cell_type": "code",
   "execution_count": 3,
   "metadata": {
    "execution": {
     "iopub.execute_input": "2021-10-01T07:52:37.311682Z",
     "iopub.status.busy": "2021-10-01T07:52:37.311003Z",
     "iopub.status.idle": "2021-10-01T07:52:37.396408Z",
     "shell.execute_reply": "2021-10-01T07:52:37.396838Z"
    }
   },
   "outputs": [
    {
     "name": "stdout",
     "output_type": "stream",
     "text": [
      "\r",
      "0it [00:00, ?it/s]"
     ]
    },
    {
     "name": "stdout",
     "output_type": "stream",
     "text": [
      "\r",
      "Upgrading database; v0 -> v1: : 0it [00:00, ?it/s]"
     ]
    },
    {
     "name": "stdout",
     "output_type": "stream",
     "text": [
      "\r",
      "Upgrading database; v0 -> v1: : 0it [00:00, ?it/s]"
     ]
    },
    {
     "name": "stdout",
     "output_type": "stream",
     "text": [
      "\n"
     ]
    },
    {
     "name": "stdout",
     "output_type": "stream",
     "text": [
      "\r",
      "  0%|          | 0/1 [00:00<?, ?it/s]"
     ]
    },
    {
     "name": "stdout",
     "output_type": "stream",
     "text": [
      "\r",
      "Upgrading database; v1 -> v2:   0%|          | 0/1 [00:00<?, ?it/s]"
     ]
    },
    {
     "name": "stdout",
     "output_type": "stream",
     "text": [
      "\r",
      "Upgrading database; v1 -> v2: 100%|██████████| 1/1 [00:00<00:00, 390.57it/s]"
     ]
    },
    {
     "name": "stdout",
     "output_type": "stream",
     "text": [
      "\n"
     ]
    },
    {
     "name": "stdout",
     "output_type": "stream",
     "text": [
      "\r",
      "0it [00:00, ?it/s]"
     ]
    },
    {
     "name": "stdout",
     "output_type": "stream",
     "text": [
      "\r",
      "Upgrading database; v2 -> v3: : 0it [00:00, ?it/s]"
     ]
    },
    {
     "name": "stdout",
     "output_type": "stream",
     "text": [
      "\r",
      "Upgrading database; v2 -> v3: : 0it [00:00, ?it/s]"
     ]
    },
    {
     "name": "stdout",
     "output_type": "stream",
     "text": [
      "\n"
     ]
    },
    {
     "name": "stdout",
     "output_type": "stream",
     "text": [
      "\r",
      "0it [00:00, ?it/s]"
     ]
    },
    {
     "name": "stdout",
     "output_type": "stream",
     "text": [
      "\r",
      "Upgrading database; v3 -> v4: : 0it [00:00, ?it/s]"
     ]
    },
    {
     "name": "stdout",
     "output_type": "stream",
     "text": [
      "\r",
      "Upgrading database; v3 -> v4: : 0it [00:00, ?it/s]"
     ]
    },
    {
     "name": "stdout",
     "output_type": "stream",
     "text": [
      "\n"
     ]
    },
    {
     "name": "stdout",
     "output_type": "stream",
     "text": [
      "\r",
      "  0%|          | 0/1 [00:00<?, ?it/s]"
     ]
    },
    {
     "name": "stdout",
     "output_type": "stream",
     "text": [
      "\r",
      "Upgrading database; v4 -> v5:   0%|          | 0/1 [00:00<?, ?it/s]"
     ]
    },
    {
     "name": "stdout",
     "output_type": "stream",
     "text": [
      "\r",
      "Upgrading database; v4 -> v5: 100%|██████████| 1/1 [00:00<00:00, 1031.56it/s]"
     ]
    },
    {
     "name": "stdout",
     "output_type": "stream",
     "text": [
      "\n"
     ]
    },
    {
     "name": "stdout",
     "output_type": "stream",
     "text": [
      "\r",
      "0it [00:00, ?it/s]"
     ]
    },
    {
     "name": "stdout",
     "output_type": "stream",
     "text": [
      "\r",
      "Upgrading database; v5 -> v6: : 0it [00:00, ?it/s]"
     ]
    },
    {
     "name": "stdout",
     "output_type": "stream",
     "text": [
      "\r",
      "Upgrading database; v5 -> v6: : 0it [00:00, ?it/s]"
     ]
    },
    {
     "name": "stdout",
     "output_type": "stream",
     "text": [
      "\n"
     ]
    },
    {
     "name": "stdout",
     "output_type": "stream",
     "text": [
      "\r",
      "  0%|          | 0/1 [00:00<?, ?it/s]"
     ]
    },
    {
     "name": "stdout",
     "output_type": "stream",
     "text": [
      "\r",
      "Upgrading database; v6 -> v7:   0%|          | 0/1 [00:00<?, ?it/s]"
     ]
    },
    {
     "name": "stdout",
     "output_type": "stream",
     "text": [
      "\r",
      "Upgrading database; v6 -> v7: 100%|██████████| 1/1 [00:00<00:00, 364.41it/s]"
     ]
    },
    {
     "name": "stdout",
     "output_type": "stream",
     "text": [
      "\n"
     ]
    },
    {
     "name": "stdout",
     "output_type": "stream",
     "text": [
      "\r",
      "  0%|          | 0/1 [00:00<?, ?it/s]"
     ]
    },
    {
     "name": "stdout",
     "output_type": "stream",
     "text": [
      "\r",
      "Upgrading database; v7 -> v8:   0%|          | 0/1 [00:00<?, ?it/s]"
     ]
    },
    {
     "name": "stdout",
     "output_type": "stream",
     "text": [
      "\r",
      "Upgrading database; v7 -> v8: 100%|██████████| 1/1 [00:00<00:00, 344.16it/s]"
     ]
    },
    {
     "name": "stdout",
     "output_type": "stream",
     "text": [
      "\n"
     ]
    },
    {
     "name": "stdout",
     "output_type": "stream",
     "text": [
      "\r",
      "  0%|          | 0/1 [00:00<?, ?it/s]"
     ]
    },
    {
     "name": "stdout",
     "output_type": "stream",
     "text": [
      "\r",
      "Upgrading database; v8 -> v9:   0%|          | 0/1 [00:00<?, ?it/s]"
     ]
    },
    {
     "name": "stdout",
     "output_type": "stream",
     "text": [
      "\r",
      "Upgrading database; v8 -> v9: 100%|██████████| 1/1 [00:00<00:00, 322.09it/s]"
     ]
    },
    {
     "name": "stdout",
     "output_type": "stream",
     "text": [
      "\n"
     ]
    }
   ],
   "source": [
    "initialise_database()\n",
    "exp = load_or_create_experiment(experiment_name='tutorial_exp', sample_name=\"no sample\")"
   ]
  },
  {
   "cell_type": "markdown",
   "metadata": {},
   "source": [
    "Here, we define a simple function to benchmark the time it takes to insert n points with either numeric or array data type.\n",
    "We will compare both the time used to call ``add_result`` and the time used for the full measurement."
   ]
  },
  {
   "cell_type": "code",
   "execution_count": 4,
   "metadata": {
    "execution": {
     "iopub.execute_input": "2021-10-01T07:52:37.405246Z",
     "iopub.status.busy": "2021-10-01T07:52:37.404410Z",
     "iopub.status.idle": "2021-10-01T07:52:37.409126Z",
     "shell.execute_reply": "2021-10-01T07:52:37.408457Z"
    }
   },
   "outputs": [],
   "source": [
    "def insert_data(paramtype, npoints, nreps=1):\n",
    "\n",
    "    meas = Measurement(exp=exp)\n",
    "\n",
    "    x1 = ManualParameter('x1')\n",
    "    x2 = ManualParameter('x2')\n",
    "    x3 = ManualParameter('x3')\n",
    "    y1 = ManualParameter('y1')\n",
    "    y2 = ManualParameter('y2')\n",
    "\n",
    "    meas.register_parameter(x1, paramtype=paramtype)\n",
    "    meas.register_parameter(x2, paramtype=paramtype)\n",
    "    meas.register_parameter(x3, paramtype=paramtype)\n",
    "    meas.register_parameter(y1, setpoints=[x1, x2, x3],\n",
    "                            paramtype=paramtype)\n",
    "    meas.register_parameter(y2, setpoints=[x1, x2, x3],\n",
    "                            paramtype=paramtype)\n",
    "    start = time.perf_counter()\n",
    "    with meas.run() as datasaver:\n",
    "        start_adding = time.perf_counter()\n",
    "        for i in range(nreps):\n",
    "            datasaver.add_result((x1, np.random.rand(npoints)),\n",
    "                                 (x2, np.random.rand(npoints)),\n",
    "                                 (x3, np.random.rand(npoints)),\n",
    "                                 (y1, np.random.rand(npoints)),\n",
    "                                 (y2, np.random.rand(npoints)))\n",
    "        stop_adding = time.perf_counter()\n",
    "        run_id = datasaver.run_id\n",
    "    stop = time.perf_counter()\n",
    "    tot_time = stop - start\n",
    "    add_time = stop_adding - start_adding\n",
    "    return tot_time, add_time, run_id"
   ]
  },
  {
   "cell_type": "markdown",
   "metadata": {},
   "source": [
    "## Comparison between numeric/array data and binary blob"
   ]
  },
  {
   "cell_type": "markdown",
   "metadata": {},
   "source": [
    "### Case1: Short experiment time"
   ]
  },
  {
   "cell_type": "code",
   "execution_count": 5,
   "metadata": {
    "execution": {
     "iopub.execute_input": "2021-10-01T07:52:37.416014Z",
     "iopub.status.busy": "2021-10-01T07:52:37.413978Z",
     "iopub.status.idle": "2021-10-01T07:52:38.148622Z",
     "shell.execute_reply": "2021-10-01T07:52:38.149055Z"
    }
   },
   "outputs": [
    {
     "name": "stdout",
     "output_type": "stream",
     "text": [
      "Starting experimental run with id: 1. \n",
      "Starting experimental run with id: 2. \n",
      "Starting experimental run with id: 3. \n",
      "Starting experimental run with id: 4. \n",
      "Starting experimental run with id: 5. \n"
     ]
    },
    {
     "name": "stdout",
     "output_type": "stream",
     "text": [
      "Starting experimental run with id: 6. \n"
     ]
    },
    {
     "name": "stdout",
     "output_type": "stream",
     "text": [
      "Starting experimental run with id: 7. \n"
     ]
    },
    {
     "name": "stdout",
     "output_type": "stream",
     "text": [
      "Starting experimental run with id: 8. \n",
      "Starting experimental run with id: 9. \n"
     ]
    },
    {
     "name": "stdout",
     "output_type": "stream",
     "text": [
      "Starting experimental run with id: 10. \n",
      "Starting experimental run with id: 11. \n"
     ]
    },
    {
     "name": "stdout",
     "output_type": "stream",
     "text": [
      "Starting experimental run with id: 12. \n",
      "Starting experimental run with id: 13. \n"
     ]
    },
    {
     "name": "stdout",
     "output_type": "stream",
     "text": [
      "Starting experimental run with id: 14. \n"
     ]
    }
   ],
   "source": [
    "sizes = [1,500,1000,2000,3000,4000,5000]\n",
    "t_numeric = []\n",
    "t_numeric_add = []\n",
    "t_array = []\n",
    "t_array_add = []\n",
    "for size in sizes:\n",
    "    tn, tna, run_id_n =  insert_data('numeric', size)\n",
    "    t_numeric.append(tn)\n",
    "    t_numeric_add.append(tna)\n",
    "\n",
    "    ta, taa, run_id_a =  insert_data('array', size)\n",
    "    t_array.append(ta)\n",
    "    t_array_add.append(taa)"
   ]
  },
  {
   "cell_type": "code",
   "execution_count": 6,
   "metadata": {
    "execution": {
     "iopub.execute_input": "2021-10-01T07:52:38.167562Z",
     "iopub.status.busy": "2021-10-01T07:52:38.156878Z",
     "iopub.status.idle": "2021-10-01T07:52:38.493296Z",
     "shell.execute_reply": "2021-10-01T07:52:38.493732Z"
    }
   },
   "outputs": [
    {
     "data": {
      "image/png": "[encoded data removed]",
      "text/plain": [
       "<Figure size 432x288 with 1 Axes>"
      ]
     },
     "metadata": {
      "needs_background": "light"
     },
     "output_type": "display_data"
    }
   ],
   "source": [
    "fig, ax = plt.subplots(1,1)\n",
    "ax.plot(sizes, t_numeric, 'o-', label='Inserting row-by-row')\n",
    "ax.plot(sizes, t_numeric_add, 'o-', label='Inserting row-by-row: add_result only')\n",
    "ax.plot(sizes, t_array, 'd-', label='Inserting as binary blob')\n",
    "ax.plot(sizes, t_array_add, 'd-', label='Inserting as binary blob: add_result only')\n",
    "ax.legend()\n",
    "ax.set_xlabel('Array length')\n",
    "ax.set_ylabel('Time (s)')\n",
    "fig.tight_layout()"
   ]
  },
  {
   "cell_type": "markdown",
   "metadata": {},
   "source": [
    "As shown in the latter figure, the time to setup and and close the experiment is approximately 0.4 sec. In case of small array sizes, the difference between inserting values of data as arrays and inserting them row-by-row is relatively unimportant. At larger array sizes, i.e. above 10000 points, the cost of writing data as individual datapoints starts to become important.\n"
   ]
  },
  {
   "cell_type": "markdown",
   "metadata": {},
   "source": [
    "### Case2: Long experiment time "
   ]
  },
  {
   "cell_type": "code",
   "execution_count": 7,
   "metadata": {
    "execution": {
     "iopub.execute_input": "2021-10-01T07:52:38.499896Z",
     "iopub.status.busy": "2021-10-01T07:52:38.498577Z",
     "iopub.status.idle": "2021-10-01T07:53:30.444445Z",
     "shell.execute_reply": "2021-10-01T07:53:30.443495Z"
    }
   },
   "outputs": [
    {
     "name": "stdout",
     "output_type": "stream",
     "text": [
      "Starting experimental run with id: 15. \n",
      "Starting experimental run with id: 16. \n",
      "Starting experimental run with id: 17. \n"
     ]
    },
    {
     "name": "stdout",
     "output_type": "stream",
     "text": [
      "Starting experimental run with id: 18. \n",
      "Starting experimental run with id: 19. \n"
     ]
    },
    {
     "name": "stdout",
     "output_type": "stream",
     "text": [
      "Starting experimental run with id: 20. \n",
      "Starting experimental run with id: 21. \n"
     ]
    },
    {
     "name": "stdout",
     "output_type": "stream",
     "text": [
      "Starting experimental run with id: 22. \n"
     ]
    },
    {
     "name": "stdout",
     "output_type": "stream",
     "text": [
      "Starting experimental run with id: 23. \n"
     ]
    },
    {
     "name": "stdout",
     "output_type": "stream",
     "text": [
      "Starting experimental run with id: 24. \n"
     ]
    },
    {
     "name": "stdout",
     "output_type": "stream",
     "text": [
      "Starting experimental run with id: 25. \n"
     ]
    },
    {
     "name": "stdout",
     "output_type": "stream",
     "text": [
      "Starting experimental run with id: 26. \n"
     ]
    },
    {
     "name": "stdout",
     "output_type": "stream",
     "text": [
      "Starting experimental run with id: 27. \n"
     ]
    },
    {
     "name": "stdout",
     "output_type": "stream",
     "text": [
      "Starting experimental run with id: 28. \n"
     ]
    }
   ],
   "source": [
    "sizes = [1,500,1000,2000,3000,4000,5000]\n",
    "nreps = 100\n",
    "t_numeric = []\n",
    "t_numeric_add = []\n",
    "t_numeric_run_ids = []\n",
    "t_array = []\n",
    "t_array_add = []\n",
    "t_array_run_ids = []\n",
    "for size in sizes:\n",
    "    tn, tna, run_id_n =  insert_data('numeric', size, nreps=nreps)\n",
    "    t_numeric.append(tn)\n",
    "    t_numeric_add.append(tna)\n",
    "    t_numeric_run_ids.append(run_id_n)\n",
    "\n",
    "    ta, taa, run_id_a =  insert_data('array', size, nreps=nreps)\n",
    "    t_array.append(ta)\n",
    "    t_array_add.append(taa)\n",
    "    t_array_run_ids.append(run_id_a)"
   ]
  },
  {
   "cell_type": "code",
   "execution_count": 8,
   "metadata": {
    "execution": {
     "iopub.execute_input": "2021-10-01T07:53:30.474648Z",
     "iopub.status.busy": "2021-10-01T07:53:30.460157Z",
     "iopub.status.idle": "2021-10-01T07:53:30.714487Z",
     "shell.execute_reply": "2021-10-01T07:53:30.715089Z"
    },
    "scrolled": true
   },
   "outputs": [
    {
     "data": {
      "image/png": "[encoded data removed]",
      "text/plain": [
       "<Figure size 432x288 with 1 Axes>"
      ]
     },
     "metadata": {
      "needs_background": "light"
     },
     "output_type": "display_data"
    }
   ],
   "source": [
    "fig, ax = plt.subplots(1,1)\n",
    "ax.plot(sizes, t_numeric, 'o-', label='Inserting row-by-row')\n",
    "ax.plot(sizes, t_numeric_add, 'o-', label='Inserting row-by-row: add_result only')\n",
    "ax.plot(sizes, t_array, 'd-', label='Inserting as binary blob')\n",
    "ax.plot(sizes, t_array_add, 'd-', label='Inserting as binary blob: add_result only')\n",
    "ax.legend()\n",
    "ax.set_xlabel('Array length')\n",
    "ax.set_ylabel('Time (s)')\n",
    "fig.tight_layout()"
   ]
  },
  {
   "cell_type": "markdown",
   "metadata": {},
   "source": [
    "However, as we increase the length of the experiment, as seen here by repeating the insertion 100 times, we see a big difference between inserting values of the data row-by-row and inserting it as a binary blob."
   ]
  },
  {
   "cell_type": "markdown",
   "metadata": {},
   "source": [
    "## Loading the data "
   ]
  },
  {
   "cell_type": "code",
   "execution_count": 9,
   "metadata": {
    "execution": {
     "iopub.execute_input": "2021-10-01T07:53:30.719304Z",
     "iopub.status.busy": "2021-10-01T07:53:30.718698Z",
     "iopub.status.idle": "2021-10-01T07:53:30.721457Z",
     "shell.execute_reply": "2021-10-01T07:53:30.720975Z"
    }
   },
   "outputs": [],
   "source": [
    "from qcodes.dataset.data_set import load_by_id"
   ]
  },
  {
   "cell_type": "markdown",
   "metadata": {},
   "source": [
    "As usual you can load the data by using the ``load_by_id`` function but you will notice that the different storage methods\n",
    "are reflected in shape of the data as it is retrieved. "
   ]
  },
  {
   "cell_type": "code",
   "execution_count": 10,
   "metadata": {
    "execution": {
     "iopub.execute_input": "2021-10-01T07:53:30.726784Z",
     "iopub.status.busy": "2021-10-01T07:53:30.725269Z",
     "iopub.status.idle": "2021-10-01T07:53:30.727433Z",
     "shell.execute_reply": "2021-10-01T07:53:30.727923Z"
    }
   },
   "outputs": [],
   "source": [
    "run_id_n = t_numeric_run_ids[0]\n",
    "run_id_a = t_array_run_ids[0]"
   ]
  },
  {
   "cell_type": "code",
   "execution_count": 11,
   "metadata": {
    "execution": {
     "iopub.execute_input": "2021-10-01T07:53:30.732729Z",
     "iopub.status.busy": "2021-10-01T07:53:30.732101Z",
     "iopub.status.idle": "2021-10-01T07:53:30.742304Z",
     "shell.execute_reply": "2021-10-01T07:53:30.742805Z"
    },
    "scrolled": true
   },
   "outputs": [
    {
     "data": {
      "text/plain": [
       "{'x1': {'x1': array([0.65494218, 0.65494218, 0.50344021, 0.50344021, 0.0488791 ,\n",
       "         0.0488791 , 0.83731817, 0.83731817, 0.92114043, 0.92114043,\n",
       "         0.40891542, 0.40891542, 0.27143636, 0.27143636, 0.70704444,\n",
       "         0.70704444, 0.62116972, 0.62116972, 0.71317043, 0.71317043,\n",
       "         0.14248257, 0.14248257, 0.28166924, 0.28166924, 0.78915491,\n",
       "         0.78915491, 0.79006831, 0.79006831, 0.36645971, 0.36645971,\n",
       "         0.31650106, 0.31650106, 0.94436951, 0.94436951, 0.29400765,\n",
       "         0.29400765, 0.17139096, 0.17139096, 0.2763381 , 0.2763381 ,\n",
       "         0.61384147, 0.61384147, 0.12108342, 0.12108342, 0.71745223,\n",
       "         0.71745223, 0.0606252 , 0.0606252 , 0.25026595, 0.25026595,\n",
       "         0.57197808, 0.57197808, 0.13049312, 0.13049312, 0.25903625,\n",
       "         0.25903625, 0.8133074 , 0.8133074 , 0.24602521, 0.24602521,\n",
       "         0.78106927, 0.78106927, 0.45014877, 0.45014877, 0.47715823,\n",
       "         0.47715823, 0.08876721, 0.08876721, 0.00238412, 0.00238412,\n",
       "         0.275253  , 0.275253  , 0.05542158, 0.05542158, 0.96977434,\n",
       "         0.96977434, 0.90596248, 0.90596248, 0.84704297, 0.84704297,\n",
       "         0.88813356, 0.88813356, 0.62599875, 0.62599875, 0.33367673,\n",
       "         0.33367673, 0.85973905, 0.85973905, 0.04344783, 0.04344783,\n",
       "         0.40426016, 0.40426016, 0.02528296, 0.02528296, 0.32283405,\n",
       "         0.32283405, 0.61001743, 0.61001743, 0.86018756, 0.86018756,\n",
       "         0.35251662, 0.35251662, 0.55539476, 0.55539476, 0.71028713,\n",
       "         0.71028713, 0.57868704, 0.57868704, 0.78804214, 0.78804214,\n",
       "         0.29132811, 0.29132811, 0.07714851, 0.07714851, 0.20795314,\n",
       "         0.20795314, 0.98688581, 0.98688581, 0.74389937, 0.74389937,\n",
       "         0.26697982, 0.26697982, 0.70464222, 0.70464222, 0.46621981,\n",
       "         0.46621981, 0.67835267, 0.67835267, 0.12137338, 0.12137338,\n",
       "         0.69952883, 0.69952883, 0.33054   , 0.33054   , 0.86205249,\n",
       "         0.86205249, 0.38252294, 0.38252294, 0.33551556, 0.33551556,\n",
       "         0.07299166, 0.07299166, 0.60854769, 0.60854769, 0.09560993,\n",
       "         0.09560993, 0.73909129, 0.73909129, 0.74287569, 0.74287569,\n",
       "         0.80075572, 0.80075572, 0.39280804, 0.39280804, 0.97190448,\n",
       "         0.97190448, 0.24375213, 0.24375213, 0.47919578, 0.47919578,\n",
       "         0.36134129, 0.36134129, 0.24850553, 0.24850553, 0.0848089 ,\n",
       "         0.0848089 , 0.45104919, 0.45104919, 0.83209837, 0.83209837,\n",
       "         0.58045818, 0.58045818, 0.81312178, 0.81312178, 0.9186154 ,\n",
       "         0.9186154 , 0.045956  , 0.045956  , 0.44734384, 0.44734384,\n",
       "         0.86894276, 0.86894276, 0.53110699, 0.53110699, 0.12995023,\n",
       "         0.12995023, 0.19998883, 0.19998883, 0.49931934, 0.49931934,\n",
       "         0.952852  , 0.952852  , 0.91261358, 0.91261358, 0.69108121,\n",
       "         0.69108121, 0.78950972, 0.78950972, 0.03074286, 0.03074286])}}"
      ]
     },
     "execution_count": 11,
     "metadata": {},
     "output_type": "execute_result"
    }
   ],
   "source": [
    "ds = load_by_id(run_id_n)\n",
    "ds.get_parameter_data('x1')"
   ]
  },
  {
   "cell_type": "markdown",
   "metadata": {},
   "source": [
    "And a dataset stored as binary arrays"
   ]
  },
  {
   "cell_type": "code",
   "execution_count": 12,
   "metadata": {
    "execution": {
     "iopub.execute_input": "2021-10-01T07:53:30.746782Z",
     "iopub.status.busy": "2021-10-01T07:53:30.746222Z",
     "iopub.status.idle": "2021-10-01T07:53:30.806340Z",
     "shell.execute_reply": "2021-10-01T07:53:30.806904Z"
    },
    "scrolled": true
   },
   "outputs": [
    {
     "data": {
      "text/plain": [
       "{'x1': {'x1': array([[0.81851054],\n",
       "         [0.81851054],\n",
       "         [0.7417221 ],\n",
       "         [0.7417221 ],\n",
       "         [0.77788193],\n",
       "         [0.77788193],\n",
       "         [0.61271925],\n",
       "         [0.61271925],\n",
       "         [0.52651725],\n",
       "         [0.52651725],\n",
       "         [0.77498146],\n",
       "         [0.77498146],\n",
       "         [0.22164296],\n",
       "         [0.22164296],\n",
       "         [0.71737739],\n",
       "         [0.71737739],\n",
       "         [0.79646988],\n",
       "         [0.79646988],\n",
       "         [0.61904072],\n",
       "         [0.61904072],\n",
       "         [0.39524521],\n",
       "         [0.39524521],\n",
       "         [0.34231087],\n",
       "         [0.34231087],\n",
       "         [0.22618238],\n",
       "         [0.22618238],\n",
       "         [0.71110103],\n",
       "         [0.71110103],\n",
       "         [0.91331291],\n",
       "         [0.91331291],\n",
       "         [0.27819055],\n",
       "         [0.27819055],\n",
       "         [0.96678564],\n",
       "         [0.96678564],\n",
       "         [0.31786053],\n",
       "         [0.31786053],\n",
       "         [0.57652229],\n",
       "         [0.57652229],\n",
       "         [0.93186718],\n",
       "         [0.93186718],\n",
       "         [0.66573371],\n",
       "         [0.66573371],\n",
       "         [0.37467207],\n",
       "         [0.37467207],\n",
       "         [0.49187904],\n",
       "         [0.49187904],\n",
       "         [0.34696568],\n",
       "         [0.34696568],\n",
       "         [0.40649522],\n",
       "         [0.40649522],\n",
       "         [0.76630858],\n",
       "         [0.76630858],\n",
       "         [0.23103683],\n",
       "         [0.23103683],\n",
       "         [0.80534574],\n",
       "         [0.80534574],\n",
       "         [0.5433207 ],\n",
       "         [0.5433207 ],\n",
       "         [0.43862377],\n",
       "         [0.43862377],\n",
       "         [0.46062357],\n",
       "         [0.46062357],\n",
       "         [0.36275013],\n",
       "         [0.36275013],\n",
       "         [0.94571245],\n",
       "         [0.94571245],\n",
       "         [0.99104229],\n",
       "         [0.99104229],\n",
       "         [0.08613734],\n",
       "         [0.08613734],\n",
       "         [0.94877078],\n",
       "         [0.94877078],\n",
       "         [0.44898076],\n",
       "         [0.44898076],\n",
       "         [0.31508341],\n",
       "         [0.31508341],\n",
       "         [0.44009796],\n",
       "         [0.44009796],\n",
       "         [0.37114644],\n",
       "         [0.37114644],\n",
       "         [0.6681548 ],\n",
       "         [0.6681548 ],\n",
       "         [0.45037111],\n",
       "         [0.45037111],\n",
       "         [0.48755005],\n",
       "         [0.48755005],\n",
       "         [0.01427182],\n",
       "         [0.01427182],\n",
       "         [0.01509985],\n",
       "         [0.01509985],\n",
       "         [0.47079212],\n",
       "         [0.47079212],\n",
       "         [0.11602916],\n",
       "         [0.11602916],\n",
       "         [0.77519551],\n",
       "         [0.77519551],\n",
       "         [0.97630744],\n",
       "         [0.97630744],\n",
       "         [0.8162451 ],\n",
       "         [0.8162451 ],\n",
       "         [0.53408136],\n",
       "         [0.53408136],\n",
       "         [0.45244159],\n",
       "         [0.45244159],\n",
       "         [0.79155411],\n",
       "         [0.79155411],\n",
       "         [0.09955212],\n",
       "         [0.09955212],\n",
       "         [0.42137288],\n",
       "         [0.42137288],\n",
       "         [0.25035493],\n",
       "         [0.25035493],\n",
       "         [0.99860303],\n",
       "         [0.99860303],\n",
       "         [0.77897086],\n",
       "         [0.77897086],\n",
       "         [0.2923029 ],\n",
       "         [0.2923029 ],\n",
       "         [0.57208654],\n",
       "         [0.57208654],\n",
       "         [0.76951859],\n",
       "         [0.76951859],\n",
       "         [0.89614164],\n",
       "         [0.89614164],\n",
       "         [0.77734751],\n",
       "         [0.77734751],\n",
       "         [0.01703745],\n",
       "         [0.01703745],\n",
       "         [0.37431924],\n",
       "         [0.37431924],\n",
       "         [0.39256135],\n",
       "         [0.39256135],\n",
       "         [0.05046055],\n",
       "         [0.05046055],\n",
       "         [0.67267744],\n",
       "         [0.67267744],\n",
       "         [0.95908397],\n",
       "         [0.95908397],\n",
       "         [0.51175685],\n",
       "         [0.51175685],\n",
       "         [0.54255946],\n",
       "         [0.54255946],\n",
       "         [0.37889859],\n",
       "         [0.37889859],\n",
       "         [0.80808386],\n",
       "         [0.80808386],\n",
       "         [0.43612511],\n",
       "         [0.43612511],\n",
       "         [0.43014839],\n",
       "         [0.43014839],\n",
       "         [0.90753672],\n",
       "         [0.90753672],\n",
       "         [0.79271984],\n",
       "         [0.79271984],\n",
       "         [0.44447001],\n",
       "         [0.44447001],\n",
       "         [0.55244243],\n",
       "         [0.55244243],\n",
       "         [0.72162439],\n",
       "         [0.72162439],\n",
       "         [0.08787688],\n",
       "         [0.08787688],\n",
       "         [0.68555441],\n",
       "         [0.68555441],\n",
       "         [0.92802113],\n",
       "         [0.92802113],\n",
       "         [0.10963841],\n",
       "         [0.10963841],\n",
       "         [0.57805813],\n",
       "         [0.57805813],\n",
       "         [0.2976748 ],\n",
       "         [0.2976748 ],\n",
       "         [0.72959109],\n",
       "         [0.72959109],\n",
       "         [0.14969015],\n",
       "         [0.14969015],\n",
       "         [0.37277121],\n",
       "         [0.37277121],\n",
       "         [0.70147836],\n",
       "         [0.70147836],\n",
       "         [0.53060268],\n",
       "         [0.53060268],\n",
       "         [0.22352742],\n",
       "         [0.22352742],\n",
       "         [0.83107623],\n",
       "         [0.83107623],\n",
       "         [0.15179824],\n",
       "         [0.15179824],\n",
       "         [0.43320709],\n",
       "         [0.43320709],\n",
       "         [0.81019372],\n",
       "         [0.81019372],\n",
       "         [0.50390019],\n",
       "         [0.50390019],\n",
       "         [0.20556972],\n",
       "         [0.20556972],\n",
       "         [0.44356446],\n",
       "         [0.44356446],\n",
       "         [0.18950452],\n",
       "         [0.18950452]])}}"
      ]
     },
     "execution_count": 12,
     "metadata": {},
     "output_type": "execute_result"
    }
   ],
   "source": [
    "ds = load_by_id(run_id_a)\n",
    "ds.get_parameter_data('x1')"
   ]
  },
  {
   "cell_type": "code",
   "execution_count": null,
   "metadata": {},
   "outputs": [],
   "source": []
  }
 ],
 "metadata": {
  "kernelspec": {
   "display_name": "Python 3",
   "language": "python",
   "name": "python3"
  },
  "language_info": {
   "codemirror_mode": {
    "name": "ipython",
    "version": 3
   },
   "file_extension": ".py",
   "mimetype": "text/x-python",
   "name": "python",
   "nbconvert_exporter": "python",
   "pygments_lexer": "ipython3",
   "version": "3.7.12"
  },
  "nbsphinx": {
   "timeout": 600
  },
  "toc": {
   "base_numbering": 1,
   "nav_menu": {},
   "number_sections": true,
   "sideBar": true,
   "skip_h1_title": false,
   "title_cell": "Table of Contents",
   "title_sidebar": "Contents",
   "toc_cell": false,
   "toc_position": {},
   "toc_section_display": true,
   "toc_window_display": false
  },
  "varInspector": {
   "cols": {
    "lenName": 16,
    "lenType": 16,
    "lenVar": 40
   },
   "kernels_config": {
    "python": {
     "delete_cmd_postfix": "",
     "delete_cmd_prefix": "del ",
     "library": "var_list.py",
     "varRefreshCmd": "print(var_dic_list())"
    },
    "r": {
     "delete_cmd_postfix": ") ",
     "delete_cmd_prefix": "rm(",
     "library": "var_list.r",
     "varRefreshCmd": "cat(var_dic_list()) "
    }
   },
   "types_to_exclude": [
    "module",
    "function",
    "builtin_function_or_method",
    "instance",
    "_Feature"
   ],
   "window_display": false
  }
 },
 "nbformat": 4,
 "nbformat_minor": 4
}
