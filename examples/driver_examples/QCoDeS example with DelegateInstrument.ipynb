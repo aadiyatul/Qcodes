{
 "cells": [
  {
   "cell_type": "markdown",
   "id": "plain-primary",
   "metadata": {},
   "source": [
    "# Qcodes example with DelegateInstrument driver\n",
    "\n",
    "This notebooks explains how to use the `DelegateInstrument` driver.\n",
    "\n",
    "## About\n",
    "The goal of the `DelegateInstrument` driver is to make it easier to combine different parameters together into a new \"virtual\" instrument. Each parameter on a `DelegateInstrument` can point to one or more parameters on other instruments in the station.\n",
    "\n",
    "## Usage\n",
    "The way it's used is mainly by specifying an entry in the station YAML. For instance, let's say you want to use a magnetic field coil. The driver has a method set_field(value, block), that by default is set to block=True, which means the field is ramped in a way that blocks further execution until the desired value is reached. However, let's say you are creating a measurement in which you want the parameter to be set, and while the value is ramping, you want to measure other parameters. This can be done by using `DelegateInstrument` and specifying a custom `setter` for the parameter that gets and sets the magnetic field.\n",
    "\n",
    "By default, each parameter is represented by a `DelegateParameter`. The `DelegateInstrument` also supports passing multiple source parameters to a given parameter. In order to do this, simply specify multiple parameters in the dictionary values  under the `parameters` key.\n",
    "\n",
    "It can also add instrument channels, specified under a separate key `channels`, shown in the second half of the notebook."
   ]
  },
  {
   "cell_type": "code",
   "execution_count": 1,
   "id": "sapphire-quebec",
   "metadata": {
    "execution": {
     "iopub.execute_input": "2021-10-01T07:59:08.963243Z",
     "iopub.status.busy": "2021-10-01T07:59:08.962686Z",
     "iopub.status.idle": "2021-10-01T07:59:08.972897Z",
     "shell.execute_reply": "2021-10-01T07:59:08.973326Z"
    }
   },
   "outputs": [
    {
     "name": "stdout",
     "output_type": "stream",
     "text": [
      "Writing example.yaml\n"
     ]
    }
   ],
   "source": [
    "%%writefile example.yaml\n",
    "\n",
    "instruments:\n",
    "  field_X:\n",
    "    type: qcodes.tests.instrument_mocks.MockField\n",
    "\n",
    "  field:\n",
    "    type: qcodes.instrument.delegate.DelegateInstrument\n",
    "    init:\n",
    "      parameters:\n",
    "        X:\n",
    "          - field_X.field\n",
    "        ramp_rate:\n",
    "          - field_X.ramp_rate\n",
    "        combined:\n",
    "          - field_X.field\n",
    "          - field_X.ramp_rate\n",
    "      set_initial_values_on_load: true\n",
    "      initial_values:\n",
    "        ramp_rate: 1.0\n",
    "      setters:\n",
    "        X:\n",
    "          method: field_X.set_field\n",
    "          block: false"
   ]
  },
  {
   "cell_type": "code",
   "execution_count": 2,
   "id": "younger-newspaper",
   "metadata": {
    "execution": {
     "iopub.execute_input": "2021-10-01T07:59:08.977112Z",
     "iopub.status.busy": "2021-10-01T07:59:08.976573Z",
     "iopub.status.idle": "2021-10-01T07:59:09.994819Z",
     "shell.execute_reply": "2021-10-01T07:59:09.994334Z"
    }
   },
   "outputs": [
    {
     "name": "stdout",
     "output_type": "stream",
     "text": [
      "Logging hadn't been started.\n",
      "Activating auto-logging. Current session state plus future input saved.\n",
      "Filename       : /home/runner/.qcodes/logs/command_history.log\n",
      "Mode           : append\n",
      "Output logging : True\n",
      "Raw input log  : False\n",
      "Timestamping   : True\n",
      "State          : active\n"
     ]
    },
    {
     "name": "stdout",
     "output_type": "stream",
     "text": [
      "Qcodes Logfile : /home/runner/.qcodes/logs/211001-10330-qcodes.log\n"
     ]
    }
   ],
   "source": [
    "import qcodes as qc"
   ]
  },
  {
   "cell_type": "code",
   "execution_count": 3,
   "id": "muslim-briefs",
   "metadata": {
    "execution": {
     "iopub.execute_input": "2021-10-01T07:59:10.005034Z",
     "iopub.status.busy": "2021-10-01T07:59:09.999065Z",
     "iopub.status.idle": "2021-10-01T07:59:10.023250Z",
     "shell.execute_reply": "2021-10-01T07:59:10.022468Z"
    }
   },
   "outputs": [],
   "source": [
    "station = qc.Station(config_file=\"example.yaml\")"
   ]
  },
  {
   "cell_type": "code",
   "execution_count": 4,
   "id": "greatest-antenna",
   "metadata": {
    "execution": {
     "iopub.execute_input": "2021-10-01T07:59:10.027333Z",
     "iopub.status.busy": "2021-10-01T07:59:10.026817Z",
     "iopub.status.idle": "2021-10-01T07:59:10.070423Z",
     "shell.execute_reply": "2021-10-01T07:59:10.069944Z"
    }
   },
   "outputs": [],
   "source": [
    "field_X = station.load_field_X()\n",
    "field = station.load_field(station=station)"
   ]
  },
  {
   "cell_type": "code",
   "execution_count": 5,
   "id": "every-playing",
   "metadata": {
    "execution": {
     "iopub.execute_input": "2021-10-01T07:59:10.079981Z",
     "iopub.status.busy": "2021-10-01T07:59:10.079455Z",
     "iopub.status.idle": "2021-10-01T07:59:10.085187Z",
     "shell.execute_reply": "2021-10-01T07:59:10.085882Z"
    }
   },
   "outputs": [
    {
     "data": {
      "text/plain": [
       "0.0"
      ]
     },
     "execution_count": 5,
     "metadata": {},
     "output_type": "execute_result"
    }
   ],
   "source": [
    "field.X()"
   ]
  },
  {
   "cell_type": "code",
   "execution_count": 6,
   "id": "undefined-worst",
   "metadata": {
    "execution": {
     "iopub.execute_input": "2021-10-01T07:59:10.089487Z",
     "iopub.status.busy": "2021-10-01T07:59:10.088968Z",
     "iopub.status.idle": "2021-10-01T07:59:10.092720Z",
     "shell.execute_reply": "2021-10-01T07:59:10.092254Z"
    }
   },
   "outputs": [],
   "source": [
    "field.X(1.)"
   ]
  },
  {
   "cell_type": "code",
   "execution_count": 7,
   "id": "recreational-suggestion",
   "metadata": {
    "execution": {
     "iopub.execute_input": "2021-10-01T07:59:10.097702Z",
     "iopub.status.busy": "2021-10-01T07:59:10.095949Z",
     "iopub.status.idle": "2021-10-01T07:59:10.102800Z",
     "shell.execute_reply": "2021-10-01T07:59:10.103245Z"
    }
   },
   "outputs": [
    {
     "data": {
      "text/plain": [
       "0.00013918479283650715"
      ]
     },
     "execution_count": 7,
     "metadata": {},
     "output_type": "execute_result"
    }
   ],
   "source": [
    "field.X()"
   ]
  },
  {
   "cell_type": "code",
   "execution_count": 8,
   "id": "adopted-exchange",
   "metadata": {
    "execution": {
     "iopub.execute_input": "2021-10-01T07:59:10.107470Z",
     "iopub.status.busy": "2021-10-01T07:59:10.106946Z",
     "iopub.status.idle": "2021-10-01T07:59:10.113048Z",
     "shell.execute_reply": "2021-10-01T07:59:10.112598Z"
    }
   },
   "outputs": [
    {
     "data": {
      "text/plain": [
       "0.00029134353001912435"
      ]
     },
     "execution_count": 8,
     "metadata": {},
     "output_type": "execute_result"
    }
   ],
   "source": [
    "field.X()"
   ]
  },
  {
   "cell_type": "code",
   "execution_count": 9,
   "id": "bound-broadcasting",
   "metadata": {
    "execution": {
     "iopub.execute_input": "2021-10-01T07:59:10.117070Z",
     "iopub.status.busy": "2021-10-01T07:59:10.116553Z",
     "iopub.status.idle": "2021-10-01T07:59:10.122373Z",
     "shell.execute_reply": "2021-10-01T07:59:10.121942Z"
    }
   },
   "outputs": [
    {
     "data": {
      "text/plain": [
       "0.00045148134231567385"
      ]
     },
     "execution_count": 9,
     "metadata": {},
     "output_type": "execute_result"
    }
   ],
   "source": [
    "field.X()"
   ]
  },
  {
   "cell_type": "code",
   "execution_count": 10,
   "id": "casual-ghost",
   "metadata": {
    "execution": {
     "iopub.execute_input": "2021-10-01T07:59:10.126596Z",
     "iopub.status.busy": "2021-10-01T07:59:10.126079Z",
     "iopub.status.idle": "2021-10-01T07:59:10.130749Z",
     "shell.execute_reply": "2021-10-01T07:59:10.131184Z"
    }
   },
   "outputs": [
    {
     "data": {
      "text/plain": [
       "0.0006084998448689778"
      ]
     },
     "execution_count": 10,
     "metadata": {},
     "output_type": "execute_result"
    }
   ],
   "source": [
    "field.X()"
   ]
  },
  {
   "cell_type": "markdown",
   "id": "alike-process",
   "metadata": {},
   "source": [
    "As you can see, the field is now ramped in the background with the specified ramp rate. Now, let's try to create a measurement that uses this ability, and ramps the field in the background while measuring:"
   ]
  },
  {
   "cell_type": "code",
   "execution_count": 11,
   "id": "sustained-tiger",
   "metadata": {
    "execution": {
     "iopub.execute_input": "2021-10-01T07:59:10.134746Z",
     "iopub.status.busy": "2021-10-01T07:59:10.133641Z",
     "iopub.status.idle": "2021-10-01T07:59:10.140877Z",
     "shell.execute_reply": "2021-10-01T07:59:10.140412Z"
    }
   },
   "outputs": [],
   "source": [
    "field.ramp_rate(10.)\n",
    "field_X.field(0.0)"
   ]
  },
  {
   "cell_type": "code",
   "execution_count": 12,
   "id": "pharmaceutical-partition",
   "metadata": {
    "execution": {
     "iopub.execute_input": "2021-10-01T07:59:10.145098Z",
     "iopub.status.busy": "2021-10-01T07:59:10.144587Z",
     "iopub.status.idle": "2021-10-01T07:59:10.149707Z",
     "shell.execute_reply": "2021-10-01T07:59:10.150105Z"
    }
   },
   "outputs": [
    {
     "data": {
      "text/plain": [
       "0.0"
      ]
     },
     "execution_count": 12,
     "metadata": {},
     "output_type": "execute_result"
    }
   ],
   "source": [
    "field.X()"
   ]
  },
  {
   "cell_type": "code",
   "execution_count": 13,
   "id": "happy-ordinance",
   "metadata": {
    "execution": {
     "iopub.execute_input": "2021-10-01T07:59:10.154631Z",
     "iopub.status.busy": "2021-10-01T07:59:10.154125Z",
     "iopub.status.idle": "2021-10-01T07:59:11.379448Z",
     "shell.execute_reply": "2021-10-01T07:59:11.378551Z"
    }
   },
   "outputs": [
    {
     "name": "stdout",
     "output_type": "stream",
     "text": [
      "Starting experimental run with id: 60. \n"
     ]
    }
   ],
   "source": [
    "import time\n",
    "meas = qc.Measurement(station=station)\n",
    "meas.register_parameter(field.X)\n",
    "\n",
    "with meas.run() as datasaver:\n",
    "    for B in [0.1, 0.0]:\n",
    "        field.X(B)\n",
    "        while field.X() != B:\n",
    "            datasaver.add_result((field.X, field.X()))\n",
    "            time.sleep(0.01)\n",
    "    datasaver.flush_data_to_database()"
   ]
  },
  {
   "cell_type": "code",
   "execution_count": 14,
   "id": "short-medium",
   "metadata": {
    "execution": {
     "iopub.execute_input": "2021-10-01T07:59:11.382971Z",
     "iopub.status.busy": "2021-10-01T07:59:11.382284Z",
     "iopub.status.idle": "2021-10-01T07:59:11.781243Z",
     "shell.execute_reply": "2021-10-01T07:59:11.781691Z"
    }
   },
   "outputs": [
    {
     "data": {
      "text/plain": [
       "<AxesSubplot:>"
      ]
     },
     "execution_count": 14,
     "metadata": {},
     "output_type": "execute_result"
    },
    {
     "data": {
      "image/png": "[encoded data removed]",
      "text/plain": [
       "<Figure size 432x288 with 1 Axes>"
      ]
     },
     "metadata": {
      "needs_background": "light"
     },
     "output_type": "display_data"
    }
   ],
   "source": [
    "datasaver.dataset.to_pandas_dataframe().plot()"
   ]
  },
  {
   "cell_type": "markdown",
   "id": "incomplete-vietnamese",
   "metadata": {},
   "source": [
    "When specifying multiple source parameters on a given parameter, the grouped parameter will automatically return a `namedtuple` that returns both values."
   ]
  },
  {
   "cell_type": "code",
   "execution_count": 15,
   "id": "dangerous-finder",
   "metadata": {
    "execution": {
     "iopub.execute_input": "2021-10-01T07:59:11.785152Z",
     "iopub.status.busy": "2021-10-01T07:59:11.784622Z",
     "iopub.status.idle": "2021-10-01T07:59:11.788601Z",
     "shell.execute_reply": "2021-10-01T07:59:11.789032Z"
    }
   },
   "outputs": [
    {
     "data": {
      "text/plain": [
       "combined(field=0.0, ramp_rate=10.0)"
      ]
     },
     "execution_count": 15,
     "metadata": {},
     "output_type": "execute_result"
    }
   ],
   "source": [
    "field.combined()"
   ]
  },
  {
   "cell_type": "markdown",
   "id": "consolidated-cooper",
   "metadata": {},
   "source": [
    "We can now also create a custom parameter that does a simple calculation based on the current parameters."
   ]
  },
  {
   "cell_type": "code",
   "execution_count": 16,
   "id": "designed-bloom",
   "metadata": {
    "execution": {
     "iopub.execute_input": "2021-10-01T07:59:11.793325Z",
     "iopub.status.busy": "2021-10-01T07:59:11.792734Z",
     "iopub.status.idle": "2021-10-01T07:59:11.795017Z",
     "shell.execute_reply": "2021-10-01T07:59:11.795425Z"
    }
   },
   "outputs": [],
   "source": [
    "import numpy as np\n",
    "\n",
    "def calculate_ramp_time(X, ramp_rate):\n",
    "    \"\"\"Calculate ramp time in seconds\"\"\"\n",
    "    dfield = np.abs(field.target_field - X)\n",
    "    return 60. * dfield/ramp_rate"
   ]
  },
  {
   "cell_type": "code",
   "execution_count": 17,
   "id": "disabled-logic",
   "metadata": {
    "execution": {
     "iopub.execute_input": "2021-10-01T07:59:11.799666Z",
     "iopub.status.busy": "2021-10-01T07:59:11.798463Z",
     "iopub.status.idle": "2021-10-01T07:59:11.801493Z",
     "shell.execute_reply": "2021-10-01T07:59:11.801947Z"
    },
    "scrolled": true
   },
   "outputs": [],
   "source": [
    "field._create_and_add_parameter(\n",
    "    group_name=\"ramp_time\",\n",
    "    station=station,\n",
    "    paths=[\"field_X.field\", \"field_X.ramp_rate\"],\n",
    "    formatter=calculate_ramp_time\n",
    ")"
   ]
  },
  {
   "cell_type": "code",
   "execution_count": 18,
   "id": "adverse-february",
   "metadata": {
    "execution": {
     "iopub.execute_input": "2021-10-01T07:59:11.808080Z",
     "iopub.status.busy": "2021-10-01T07:59:11.806922Z",
     "iopub.status.idle": "2021-10-01T07:59:11.810760Z",
     "shell.execute_reply": "2021-10-01T07:59:11.810271Z"
    }
   },
   "outputs": [
    {
     "data": {
      "text/plain": [
       "6.0"
      ]
     },
     "execution_count": 18,
     "metadata": {},
     "output_type": "execute_result"
    }
   ],
   "source": [
    "field.ramp_rate(1.0)\n",
    "field.target_field = 0.1\n",
    "field.ramp_time()"
   ]
  },
  {
   "cell_type": "code",
   "execution_count": 19,
   "id": "statutory-xerox",
   "metadata": {
    "execution": {
     "iopub.execute_input": "2021-10-01T07:59:11.815014Z",
     "iopub.status.busy": "2021-10-01T07:59:11.813990Z",
     "iopub.status.idle": "2021-10-01T07:59:11.816021Z",
     "shell.execute_reply": "2021-10-01T07:59:11.816537Z"
    }
   },
   "outputs": [],
   "source": [
    "field.X(0.1)"
   ]
  },
  {
   "cell_type": "code",
   "execution_count": 20,
   "id": "varying-auditor",
   "metadata": {
    "execution": {
     "iopub.execute_input": "2021-10-01T07:59:11.820918Z",
     "iopub.status.busy": "2021-10-01T07:59:11.820342Z",
     "iopub.status.idle": "2021-10-01T07:59:11.822844Z",
     "shell.execute_reply": "2021-10-01T07:59:11.823315Z"
    }
   },
   "outputs": [
    {
     "data": {
      "text/plain": [
       "5.994245290756226"
      ]
     },
     "execution_count": 20,
     "metadata": {},
     "output_type": "execute_result"
    }
   ],
   "source": [
    "field.ramp_time()"
   ]
  },
  {
   "cell_type": "code",
   "execution_count": 21,
   "id": "chubby-nickel",
   "metadata": {
    "execution": {
     "iopub.execute_input": "2021-10-01T07:59:11.826663Z",
     "iopub.status.busy": "2021-10-01T07:59:11.826130Z",
     "iopub.status.idle": "2021-10-01T07:59:12.831594Z",
     "shell.execute_reply": "2021-10-01T07:59:12.832435Z"
    }
   },
   "outputs": [
    {
     "data": {
      "text/plain": [
       "4.986591339111328"
      ]
     },
     "execution_count": 21,
     "metadata": {},
     "output_type": "execute_result"
    }
   ],
   "source": [
    "import time\n",
    "time.sleep(1.)\n",
    "field.ramp_time()"
   ]
  },
  {
   "cell_type": "code",
   "execution_count": 22,
   "id": "italian-liberty",
   "metadata": {
    "execution": {
     "iopub.execute_input": "2021-10-01T07:59:12.837802Z",
     "iopub.status.busy": "2021-10-01T07:59:12.836986Z",
     "iopub.status.idle": "2021-10-01T07:59:13.842016Z",
     "shell.execute_reply": "2021-10-01T07:59:13.842544Z"
    }
   },
   "outputs": [
    {
     "data": {
      "text/plain": [
       "3.9757971763610844"
      ]
     },
     "execution_count": 22,
     "metadata": {},
     "output_type": "execute_result"
    }
   ],
   "source": [
    "import time\n",
    "time.sleep(1.)\n",
    "field.ramp_time()"
   ]
  },
  {
   "cell_type": "markdown",
   "id": "eb3a5737",
   "metadata": {},
   "source": [
    "# Devices with channels"
   ]
  },
  {
   "cell_type": "markdown",
   "id": "4ba3b335",
   "metadata": {},
   "source": [
    "The YAML file below specifies the instruments with the channels/parameters we wish to group into a new instrument, here called \"device\". The first example simply adds the channel 'as is' using self.add_submodule, while the readout parameter is added as a DelegateParameter."
   ]
  },
  {
   "cell_type": "code",
   "execution_count": 23,
   "id": "3dd9007c",
   "metadata": {
    "execution": {
     "iopub.execute_input": "2021-10-01T07:59:13.847314Z",
     "iopub.status.busy": "2021-10-01T07:59:13.846561Z",
     "iopub.status.idle": "2021-10-01T07:59:13.850070Z",
     "shell.execute_reply": "2021-10-01T07:59:13.850592Z"
    }
   },
   "outputs": [
    {
     "name": "stdout",
     "output_type": "stream",
     "text": [
      "Overwriting example.yaml\n"
     ]
    }
   ],
   "source": [
    "%%writefile example.yaml\n",
    "\n",
    "instruments:\n",
    "  lockin:\n",
    "    type: qcodes.tests.instrument_mocks.MockLockin\n",
    "\n",
    "  dac:\n",
    "    type: qcodes.tests.instrument_mocks.MockDAC   \n",
    "\n",
    "  device:\n",
    "    type: qcodes.instrument.delegate.DelegateInstrument\n",
    "    init:\n",
    "      parameters:\n",
    "        readout: lockin.X\n",
    "      channels:\n",
    "        gate_1: dac.ch01\n",
    "      set_initial_values_on_load: true\n",
    "      initial_values:\n",
    "        readout: 1e-5\n",
    "        gate_1.voltage.post_delay: 0.01"
   ]
  },
  {
   "cell_type": "code",
   "execution_count": 24,
   "id": "038ef956",
   "metadata": {
    "execution": {
     "iopub.execute_input": "2021-10-01T07:59:13.854201Z",
     "iopub.status.busy": "2021-10-01T07:59:13.853593Z",
     "iopub.status.idle": "2021-10-01T07:59:13.873562Z",
     "shell.execute_reply": "2021-10-01T07:59:13.874011Z"
    }
   },
   "outputs": [],
   "source": [
    "station = qc.Station(config_file=\"example.yaml\")"
   ]
  },
  {
   "cell_type": "code",
   "execution_count": 25,
   "id": "5d894733",
   "metadata": {
    "execution": {
     "iopub.execute_input": "2021-10-01T07:59:13.877959Z",
     "iopub.status.busy": "2021-10-01T07:59:13.877407Z",
     "iopub.status.idle": "2021-10-01T07:59:13.937986Z",
     "shell.execute_reply": "2021-10-01T07:59:13.937538Z"
    }
   },
   "outputs": [],
   "source": [
    "lockin = station.load_lockin()\n",
    "dac = station.load_dac()\n",
    "device = station.load_device(station=station)"
   ]
  },
  {
   "cell_type": "code",
   "execution_count": 26,
   "id": "707847b3",
   "metadata": {
    "execution": {
     "iopub.execute_input": "2021-10-01T07:59:13.943524Z",
     "iopub.status.busy": "2021-10-01T07:59:13.942235Z",
     "iopub.status.idle": "2021-10-01T07:59:13.945579Z",
     "shell.execute_reply": "2021-10-01T07:59:13.945064Z"
    }
   },
   "outputs": [
    {
     "name": "stdout",
     "output_type": "stream",
     "text": [
      "<MockDACChannel: dac_ch01 of MockDAC: dac>\n",
      "0.01\n"
     ]
    }
   ],
   "source": [
    "print(device.gate_1)\n",
    "print(device.gate_1.voltage.post_delay)"
   ]
  },
  {
   "cell_type": "code",
   "execution_count": 27,
   "id": "51ca983a",
   "metadata": {
    "execution": {
     "iopub.execute_input": "2021-10-01T07:59:13.949220Z",
     "iopub.status.busy": "2021-10-01T07:59:13.948663Z",
     "iopub.status.idle": "2021-10-01T07:59:13.963597Z",
     "shell.execute_reply": "2021-10-01T07:59:13.964165Z"
    }
   },
   "outputs": [
    {
     "name": "stdout",
     "output_type": "stream",
     "text": [
      "0.0\n"
     ]
    },
    {
     "data": {
      "text/plain": [
       "-0.6"
      ]
     },
     "execution_count": 27,
     "metadata": {},
     "output_type": "execute_result"
    }
   ],
   "source": [
    "print(device.gate_1.voltage())\n",
    "device.gate_1.voltage(-0.6)\n",
    "device.gate_1.voltage()"
   ]
  },
  {
   "cell_type": "markdown",
   "id": "5216c6cd",
   "metadata": {},
   "source": [
    "The second example adds a channel using a custom channel class, which takes the initial channel and its name as input and has a parameter current_valid_ranges."
   ]
  },
  {
   "cell_type": "code",
   "execution_count": 28,
   "id": "25904d59",
   "metadata": {
    "execution": {
     "iopub.execute_input": "2021-10-01T07:59:13.969803Z",
     "iopub.status.busy": "2021-10-01T07:59:13.969133Z",
     "iopub.status.idle": "2021-10-01T07:59:13.972409Z",
     "shell.execute_reply": "2021-10-01T07:59:13.972835Z"
    }
   },
   "outputs": [
    {
     "name": "stdout",
     "output_type": "stream",
     "text": [
      "Overwriting example.yaml\n"
     ]
    }
   ],
   "source": [
    "%%writefile example.yaml\n",
    "\n",
    "instruments:\n",
    "  lockin:\n",
    "    type: qcodes.tests.instrument_mocks.MockLockin\n",
    "\n",
    "  dac:\n",
    "    type: qcodes.tests.instrument_mocks.MockDAC   \n",
    "\n",
    "  device:\n",
    "    type: qcodes.instrument.delegate.DelegateInstrument\n",
    "    init:\n",
    "      parameters:\n",
    "        readout: lockin.X\n",
    "      channels:\n",
    "        type: qcodes.tests.instrument_mocks.MockCustomChannel\n",
    "        gate_1: \n",
    "          channel: dac.ch01\n",
    "          current_valid_range: [-0.5, 0]\n",
    "      set_initial_values_on_load: true\n",
    "      initial_values:\n",
    "        readout: 1e-5"
   ]
  },
  {
   "cell_type": "code",
   "execution_count": 29,
   "id": "b12eaf78",
   "metadata": {
    "execution": {
     "iopub.execute_input": "2021-10-01T07:59:13.976601Z",
     "iopub.status.busy": "2021-10-01T07:59:13.975993Z",
     "iopub.status.idle": "2021-10-01T07:59:13.978111Z",
     "shell.execute_reply": "2021-10-01T07:59:13.978557Z"
    }
   },
   "outputs": [],
   "source": [
    "lockin.close()\n",
    "dac.close()"
   ]
  },
  {
   "cell_type": "code",
   "execution_count": 30,
   "id": "b0670419",
   "metadata": {
    "execution": {
     "iopub.execute_input": "2021-10-01T07:59:13.983512Z",
     "iopub.status.busy": "2021-10-01T07:59:13.982930Z",
     "iopub.status.idle": "2021-10-01T07:59:14.047146Z",
     "shell.execute_reply": "2021-10-01T07:59:14.046658Z"
    }
   },
   "outputs": [],
   "source": [
    "station = qc.Station(config_file=\"example.yaml\")\n",
    "lockin = station.load_lockin()\n",
    "dac = station.load_dac()"
   ]
  },
  {
   "cell_type": "code",
   "execution_count": 31,
   "id": "cb12fd37",
   "metadata": {
    "execution": {
     "iopub.execute_input": "2021-10-01T07:59:14.049606Z",
     "iopub.status.busy": "2021-10-01T07:59:14.049082Z",
     "iopub.status.idle": "2021-10-01T07:59:14.072327Z",
     "shell.execute_reply": "2021-10-01T07:59:14.072822Z"
    }
   },
   "outputs": [],
   "source": [
    "device = station.load_device(station=station)"
   ]
  },
  {
   "cell_type": "code",
   "execution_count": 32,
   "id": "2a40f8d6",
   "metadata": {
    "execution": {
     "iopub.execute_input": "2021-10-01T07:59:14.078881Z",
     "iopub.status.busy": "2021-10-01T07:59:14.077595Z",
     "iopub.status.idle": "2021-10-01T07:59:14.081127Z",
     "shell.execute_reply": "2021-10-01T07:59:14.080674Z"
    }
   },
   "outputs": [
    {
     "data": {
      "text/plain": [
       "<MockCustomChannel: dac_gate_1 of MockDAC: dac>"
      ]
     },
     "execution_count": 32,
     "metadata": {},
     "output_type": "execute_result"
    }
   ],
   "source": [
    "device.gate_1"
   ]
  },
  {
   "cell_type": "code",
   "execution_count": 33,
   "id": "a51043f1",
   "metadata": {
    "execution": {
     "iopub.execute_input": "2021-10-01T07:59:14.085286Z",
     "iopub.status.busy": "2021-10-01T07:59:14.084760Z",
     "iopub.status.idle": "2021-10-01T07:59:14.087369Z",
     "shell.execute_reply": "2021-10-01T07:59:14.086901Z"
    }
   },
   "outputs": [],
   "source": [
    "device.gate_1.voltage(-0.3)"
   ]
  },
  {
   "cell_type": "code",
   "execution_count": 34,
   "id": "d1772fe9",
   "metadata": {
    "execution": {
     "iopub.execute_input": "2021-10-01T07:59:14.091419Z",
     "iopub.status.busy": "2021-10-01T07:59:14.090877Z",
     "iopub.status.idle": "2021-10-01T07:59:14.093433Z",
     "shell.execute_reply": "2021-10-01T07:59:14.093882Z"
    }
   },
   "outputs": [
    {
     "data": {
      "text/plain": [
       "-0.3"
      ]
     },
     "execution_count": 34,
     "metadata": {},
     "output_type": "execute_result"
    }
   ],
   "source": [
    "device.gate_1.voltage()"
   ]
  },
  {
   "cell_type": "markdown",
   "id": "5ea6a324",
   "metadata": {},
   "source": [
    "The MockCustomChannel has a parameter `current_valid_range`."
   ]
  },
  {
   "cell_type": "code",
   "execution_count": 35,
   "id": "955999d8",
   "metadata": {
    "execution": {
     "iopub.execute_input": "2021-10-01T07:59:14.097715Z",
     "iopub.status.busy": "2021-10-01T07:59:14.095950Z",
     "iopub.status.idle": "2021-10-01T07:59:14.103156Z",
     "shell.execute_reply": "2021-10-01T07:59:14.102716Z"
    }
   },
   "outputs": [
    {
     "data": {
      "text/plain": [
       "[-0.5, 0]"
      ]
     },
     "execution_count": 35,
     "metadata": {},
     "output_type": "execute_result"
    }
   ],
   "source": [
    "device.gate_1.current_valid_range()"
   ]
  }
 ],
 "metadata": {
  "kernelspec": {
   "display_name": "Python 3.7.9 64-bit ('qcodes_fork': conda)",
   "name": "python379jvsc74a57bd02b540bc2d5f6bd8c1d4c354bd6559a26f5871610d8f84463e1d37eff37c7ba44"
  },
  "language_info": {
   "codemirror_mode": {
    "name": "ipython",
    "version": 3
   },
   "file_extension": ".py",
   "mimetype": "text/x-python",
   "name": "python",
   "nbconvert_exporter": "python",
   "pygments_lexer": "ipython3",
   "version": "3.7.12"
  }
 },
 "nbformat": 4,
 "nbformat_minor": 5
}
